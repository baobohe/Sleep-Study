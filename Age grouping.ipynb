{
 "cells": [
  {
   "cell_type": "code",
   "execution_count": 2,
   "id": "83c3c815-5e0b-4a69-b623-4a065b556001",
   "metadata": {
    "tags": []
   },
   "outputs": [],
   "source": [
    "import numpy as np\n",
    "import pandas as pd"
   ]
  },
  {
   "cell_type": "code",
   "execution_count": 2,
   "id": "4b56d755-f95f-458a-acb6-0d121c9076f5",
   "metadata": {
    "tags": []
   },
   "outputs": [],
   "source": [
    "sleep_study = pd.read_csv('/Users/lisonghe/Library/CloudStorage/OneDrive-JohnsHopkins/Semester 2/602 Research and Design in Data Mining/files/SLEEP_STUDY.csv')"
   ]
  },
  {
   "cell_type": "code",
   "execution_count": 3,
   "id": "c9e79305-8a01-4463-bb2a-190dd74737dd",
   "metadata": {
    "tags": []
   },
   "outputs": [],
   "source": [
    "sleep_study[\"AGE AT THE TIME\"] = sleep_study[\"AGE_AT_SLEEP_STUDY_DAYS\"].apply(lambda x: x / 365 )"
   ]
  },
  {
   "cell_type": "code",
   "execution_count": 4,
   "id": "94051120-8f04-4624-8ad7-e14bf0c16b8f",
   "metadata": {
    "tags": []
   },
   "outputs": [],
   "source": [
    "sleep_study = sleep_study[[\"STUDY_PAT_ID\", \"SLEEP_STUDY_ID\", \"AGE AT THE TIME\", \"SLEEP_STUDY_DURATION_DATETIME\"]]"
   ]
  },
  {
   "cell_type": "code",
   "execution_count": 5,
   "id": "2de32eaa-957f-48ed-81ab-e3a66b6cb61a",
   "metadata": {
    "tags": []
   },
   "outputs": [
    {
     "data": {
      "text/html": [
       "<div>\n",
       "<style scoped>\n",
       "    .dataframe tbody tr th:only-of-type {\n",
       "        vertical-align: middle;\n",
       "    }\n",
       "\n",
       "    .dataframe tbody tr th {\n",
       "        vertical-align: top;\n",
       "    }\n",
       "\n",
       "    .dataframe thead th {\n",
       "        text-align: right;\n",
       "    }\n",
       "</style>\n",
       "<table border=\"1\" class=\"dataframe\">\n",
       "  <thead>\n",
       "    <tr style=\"text-align: right;\">\n",
       "      <th></th>\n",
       "      <th>STUDY_PAT_ID</th>\n",
       "      <th>SLEEP_STUDY_ID</th>\n",
       "      <th>AGE AT THE TIME</th>\n",
       "      <th>SLEEP_STUDY_DURATION_DATETIME</th>\n",
       "    </tr>\n",
       "  </thead>\n",
       "  <tbody>\n",
       "    <tr>\n",
       "      <th>0</th>\n",
       "      <td>1</td>\n",
       "      <td>4789</td>\n",
       "      <td>9.145205</td>\n",
       "      <td>9:35:32</td>\n",
       "    </tr>\n",
       "    <tr>\n",
       "      <th>1</th>\n",
       "      <td>7</td>\n",
       "      <td>12595</td>\n",
       "      <td>2.123288</td>\n",
       "      <td>11:22:32</td>\n",
       "    </tr>\n",
       "    <tr>\n",
       "      <th>2</th>\n",
       "      <td>10</td>\n",
       "      <td>22339</td>\n",
       "      <td>13.101370</td>\n",
       "      <td>11:14:13</td>\n",
       "    </tr>\n",
       "    <tr>\n",
       "      <th>3</th>\n",
       "      <td>16</td>\n",
       "      <td>24241</td>\n",
       "      <td>12.076712</td>\n",
       "      <td>10:03:36</td>\n",
       "    </tr>\n",
       "    <tr>\n",
       "      <th>4</th>\n",
       "      <td>22</td>\n",
       "      <td>23233</td>\n",
       "      <td>4.739726</td>\n",
       "      <td>11:15:36</td>\n",
       "    </tr>\n",
       "  </tbody>\n",
       "</table>\n",
       "</div>"
      ],
      "text/plain": [
       "   STUDY_PAT_ID  SLEEP_STUDY_ID  AGE AT THE TIME SLEEP_STUDY_DURATION_DATETIME\n",
       "0             1            4789         9.145205                       9:35:32\n",
       "1             7           12595         2.123288                      11:22:32\n",
       "2            10           22339        13.101370                      11:14:13\n",
       "3            16           24241        12.076712                      10:03:36\n",
       "4            22           23233         4.739726                      11:15:36"
      ]
     },
     "execution_count": 5,
     "metadata": {},
     "output_type": "execute_result"
    }
   ],
   "source": [
    "sleep_study.head()"
   ]
  },
  {
   "cell_type": "code",
   "execution_count": 6,
   "id": "28372d3f-0316-4479-ad7d-31af54b3a8a6",
   "metadata": {
    "tags": []
   },
   "outputs": [],
   "source": [
    "sleep_study.to_csv(\"SUM SLEEP STUDY.csv\", index = False)"
   ]
  },
  {
   "cell_type": "code",
   "execution_count": 49,
   "id": "3a6ad11a-af5a-494b-aedb-49341b166ab3",
   "metadata": {
    "tags": []
   },
   "outputs": [
    {
     "data": {
      "text/plain": [
       "0-3 month-old            101\n",
       "4 months -1 year-old     142\n",
       "1-3 year-old             502\n",
       "3-6 year-old             775\n",
       "6-14 year-old           1621\n",
       "14-18 year-old           620\n",
       "18-26 year-old           195\n",
       "26-65 year-old            28\n",
       "Name: age_group, dtype: int64"
      ]
     },
     "execution_count": 49,
     "metadata": {},
     "output_type": "execute_result"
    }
   ],
   "source": [
    "age_bins = [0, 0.25, 1, 3, 6, 14, 18, 26, 65]\n",
    "age_labels = ['0-3 month-old', '4 months -1 year-old', '1-3 year-old', '3-6 year-old','6-14 year-old', \n",
    "              '14-18 year-old', '18-26 year-old', '26-65 year-old']\n",
    "sleep_study['age_group'] = pd.cut(sleep_study['AGE AT THE TIME'], bins=age_bins, labels=age_labels, include_lowest=True)\n",
    "age_group_counts = sleep_study['age_group'].value_counts().sort_index()\n",
    "age_group_counts"
   ]
  },
  {
   "cell_type": "code",
   "execution_count": null,
   "id": "0e72c344-a4f2-4f9f-9ab0-dc099e1d8a34",
   "metadata": {},
   "outputs": [],
   "source": []
  },
  {
   "cell_type": "code",
   "execution_count": 8,
   "id": "6663e23a-8b49-43da-a453-89b34d2583f8",
   "metadata": {
    "tags": []
   },
   "outputs": [
    {
     "data": {
      "image/png": "[encoded data removed]",
      "text/plain": [
       "<Figure size 640x480 with 1 Axes>"
      ]
     },
     "metadata": {},
     "output_type": "display_data"
    }
   ],
   "source": [
    "import matplotlib.pyplot as plt\n",
    "plt.hist(sleep_study['AGE AT THE TIME'], bins=50)\n",
    "plt.xlabel('Age at the Time')\n",
    "plt.ylabel('Frequency')\n",
    "plt.title('Distribution of Age at the Time')\n",
    "plt.show()"
   ]
  },
  {
   "cell_type": "code",
   "execution_count": 9,
   "id": "a120fbea-0732-45cd-ac08-55431493baa8",
   "metadata": {},
   "outputs": [],
   "source": [
    "SUM_PROCEDURE = pd.read_csv(\"/Users/lisonghe/Library/CloudStorage/OneDrive-JohnsHopkins/Semester 2/602 Research and Design in Data Mining/SUM data/SUM_PROCEDURE.csv\")"
   ]
  },
  {
   "cell_type": "code",
   "execution_count": 10,
   "id": "73e15847-91a5-4d91-9a6e-333a38b269a7",
   "metadata": {
    "tags": []
   },
   "outputs": [
    {
     "data": {
      "text/plain": [
       "3629"
      ]
     },
     "execution_count": 10,
     "metadata": {},
     "output_type": "execute_result"
    }
   ],
   "source": [
    "SUM_PROCEDURE[\"STUDY_PAT_ID\"].nunique()"
   ]
  },
  {
   "cell_type": "code",
   "execution_count": 11,
   "id": "c5cfb60b-081f-4ea2-b1f6-457c88429e09",
   "metadata": {
    "tags": []
   },
   "outputs": [],
   "source": [
    "SUM_DEMOGRAPHIC = pd.read_csv(\"/Users/lisonghe/Library/CloudStorage/OneDrive-JohnsHopkins/Semester 2/602 Research and Design in Data Mining/SUM data/SUM_DEMOGRAPHIC.csv\")"
   ]
  },
  {
   "cell_type": "code",
   "execution_count": 12,
   "id": "7922d9ce-79ae-4874-963e-41bc55fb31fe",
   "metadata": {
    "tags": []
   },
   "outputs": [
    {
     "data": {
      "text/plain": [
       "3673"
      ]
     },
     "execution_count": 12,
     "metadata": {},
     "output_type": "execute_result"
    }
   ],
   "source": [
    "SUM_DEMOGRAPHIC[\"STUDY_PAT_ID\"].nunique()"
   ]
  },
  {
   "cell_type": "code",
   "execution_count": 13,
   "id": "a16e89fc-11e1-4d69-afd2-a64b2e0cead2",
   "metadata": {
    "tags": []
   },
   "outputs": [
    {
     "data": {
      "text/plain": [
       "3673"
      ]
     },
     "execution_count": 13,
     "metadata": {},
     "output_type": "execute_result"
    }
   ],
   "source": [
    "SUM_DEMOGRAPHIC[\"STUDY_PAT_ID\"].shape[0]"
   ]
  },
  {
   "cell_type": "code",
   "execution_count": 14,
   "id": "da8e7772-2b83-4c70-8c63-4a6d6f7375b6",
   "metadata": {
    "tags": []
   },
   "outputs": [],
   "source": [
    "SUM_SLEEP_STUDY = pd.read_csv(\"/Users/lisonghe/Library/CloudStorage/OneDrive-JohnsHopkins/Semester 2/602 Research and Design in Data Mining/files/SLEEP_STUDY.csv\")"
   ]
  },
  {
   "cell_type": "code",
   "execution_count": 15,
   "id": "09ebad06-3192-4e88-8f01-9a00cadf1a76",
   "metadata": {
    "tags": []
   },
   "outputs": [
    {
     "data": {
      "text/plain": [
       "3984"
      ]
     },
     "execution_count": 15,
     "metadata": {},
     "output_type": "execute_result"
    }
   ],
   "source": [
    "SUM_SLEEP_STUDY[\"STUDY_PAT_ID\"].shape[0]"
   ]
  },
  {
   "cell_type": "code",
   "execution_count": 16,
   "id": "f7a2cc68-049b-4ffa-a16d-8fe7321acf51",
   "metadata": {
    "tags": []
   },
   "outputs": [
    {
     "data": {
      "text/plain": [
       "3673"
      ]
     },
     "execution_count": 16,
     "metadata": {},
     "output_type": "execute_result"
    }
   ],
   "source": [
    "SUM_SLEEP_STUDY[\"STUDY_PAT_ID\"].nunique()"
   ]
  },
  {
   "cell_type": "code",
   "execution_count": 17,
   "id": "6f01f678-1d23-4a68-812e-7a11b58e9d1e",
   "metadata": {
    "tags": []
   },
   "outputs": [
    {
     "data": {
      "text/plain": [
       "9966"
      ]
     },
     "execution_count": 17,
     "metadata": {},
     "output_type": "execute_result"
    }
   ],
   "source": [
    "SUM_PROCEDURE.shape[0]"
   ]
  },
  {
   "cell_type": "code",
   "execution_count": 18,
   "id": "f886fe42-bdea-4991-8673-2da1aec78a3b",
   "metadata": {
    "tags": []
   },
   "outputs": [],
   "source": [
    "sleep_study = sleep_study.drop(columns='age_group')"
   ]
  },
  {
   "cell_type": "code",
   "execution_count": 19,
   "id": "e06f18fd-2d21-4e7d-91d1-891c7781db6d",
   "metadata": {
    "tags": []
   },
   "outputs": [
    {
     "data": {
      "text/html": [
       "<div>\n",
       "<style scoped>\n",
       "    .dataframe tbody tr th:only-of-type {\n",
       "        vertical-align: middle;\n",
       "    }\n",
       "\n",
       "    .dataframe tbody tr th {\n",
       "        vertical-align: top;\n",
       "    }\n",
       "\n",
       "    .dataframe thead th {\n",
       "        text-align: right;\n",
       "    }\n",
       "</style>\n",
       "<table border=\"1\" class=\"dataframe\">\n",
       "  <thead>\n",
       "    <tr style=\"text-align: right;\">\n",
       "      <th></th>\n",
       "      <th>STUDY_PAT_ID</th>\n",
       "      <th>SLEEP_STUDY_ID</th>\n",
       "      <th>AGE AT THE TIME</th>\n",
       "      <th>SLEEP_STUDY_DURATION_DATETIME</th>\n",
       "    </tr>\n",
       "  </thead>\n",
       "  <tbody>\n",
       "    <tr>\n",
       "      <th>0</th>\n",
       "      <td>1</td>\n",
       "      <td>4789</td>\n",
       "      <td>9.145205</td>\n",
       "      <td>9:35:32</td>\n",
       "    </tr>\n",
       "    <tr>\n",
       "      <th>1</th>\n",
       "      <td>7</td>\n",
       "      <td>12595</td>\n",
       "      <td>2.123288</td>\n",
       "      <td>11:22:32</td>\n",
       "    </tr>\n",
       "    <tr>\n",
       "      <th>2</th>\n",
       "      <td>10</td>\n",
       "      <td>22339</td>\n",
       "      <td>13.101370</td>\n",
       "      <td>11:14:13</td>\n",
       "    </tr>\n",
       "    <tr>\n",
       "      <th>3</th>\n",
       "      <td>16</td>\n",
       "      <td>24241</td>\n",
       "      <td>12.076712</td>\n",
       "      <td>10:03:36</td>\n",
       "    </tr>\n",
       "    <tr>\n",
       "      <th>4</th>\n",
       "      <td>22</td>\n",
       "      <td>23233</td>\n",
       "      <td>4.739726</td>\n",
       "      <td>11:15:36</td>\n",
       "    </tr>\n",
       "  </tbody>\n",
       "</table>\n",
       "</div>"
      ],
      "text/plain": [
       "   STUDY_PAT_ID  SLEEP_STUDY_ID  AGE AT THE TIME SLEEP_STUDY_DURATION_DATETIME\n",
       "0             1            4789         9.145205                       9:35:32\n",
       "1             7           12595         2.123288                      11:22:32\n",
       "2            10           22339        13.101370                      11:14:13\n",
       "3            16           24241        12.076712                      10:03:36\n",
       "4            22           23233         4.739726                      11:15:36"
      ]
     },
     "execution_count": 19,
     "metadata": {},
     "output_type": "execute_result"
    }
   ],
   "source": [
    "sleep_study.head()"
   ]
  },
  {
   "cell_type": "code",
   "execution_count": 20,
   "id": "ffe5d82f-8a5f-457c-9d7d-0738fcc7be62",
   "metadata": {
    "tags": []
   },
   "outputs": [],
   "source": [
    "sleep_study.to_csv(\"SUM_SLEEP_STUDY.csv\", index = False)"
   ]
  },
  {
   "cell_type": "code",
   "execution_count": 21,
   "id": "23d097b0-6e10-4b63-af91-f21f6c021f15",
   "metadata": {
    "tags": []
   },
   "outputs": [
    {
     "data": {
      "text/html": [
       "<div>\n",
       "<style scoped>\n",
       "    .dataframe tbody tr th:only-of-type {\n",
       "        vertical-align: middle;\n",
       "    }\n",
       "\n",
       "    .dataframe tbody tr th {\n",
       "        vertical-align: top;\n",
       "    }\n",
       "\n",
       "    .dataframe thead th {\n",
       "        text-align: right;\n",
       "    }\n",
       "</style>\n",
       "<table border=\"1\" class=\"dataframe\">\n",
       "  <thead>\n",
       "    <tr style=\"text-align: right;\">\n",
       "      <th></th>\n",
       "      <th>STUDY_PAT_ID</th>\n",
       "      <th>PCORI_GENDER_CD</th>\n",
       "      <th>RACE_DESCR</th>\n",
       "    </tr>\n",
       "  </thead>\n",
       "  <tbody>\n",
       "    <tr>\n",
       "      <th>0</th>\n",
       "      <td>1</td>\n",
       "      <td>M</td>\n",
       "      <td>White</td>\n",
       "    </tr>\n",
       "    <tr>\n",
       "      <th>1</th>\n",
       "      <td>7</td>\n",
       "      <td>F</td>\n",
       "      <td>White</td>\n",
       "    </tr>\n",
       "    <tr>\n",
       "      <th>2</th>\n",
       "      <td>10</td>\n",
       "      <td>F</td>\n",
       "      <td>Black or African American</td>\n",
       "    </tr>\n",
       "    <tr>\n",
       "      <th>3</th>\n",
       "      <td>16</td>\n",
       "      <td>M</td>\n",
       "      <td>White</td>\n",
       "    </tr>\n",
       "    <tr>\n",
       "      <th>4</th>\n",
       "      <td>22</td>\n",
       "      <td>M</td>\n",
       "      <td>Black or African American</td>\n",
       "    </tr>\n",
       "  </tbody>\n",
       "</table>\n",
       "</div>"
      ],
      "text/plain": [
       "   STUDY_PAT_ID PCORI_GENDER_CD                 RACE_DESCR\n",
       "0             1               M                      White\n",
       "1             7               F                      White\n",
       "2            10               F  Black or African American\n",
       "3            16               M                      White\n",
       "4            22               M  Black or African American"
      ]
     },
     "execution_count": 21,
     "metadata": {},
     "output_type": "execute_result"
    }
   ],
   "source": [
    "SUM_DEMOGRAPHIC.head()"
   ]
  },
  {
   "cell_type": "code",
   "execution_count": 22,
   "id": "8bf70861-2eb3-47a5-a463-939705229e35",
   "metadata": {
    "tags": []
   },
   "outputs": [],
   "source": [
    "SUM_PROCEDURE.dropna(subset=['PROC_DESCR'], inplace=True)\n",
    "SUM_PROCEDURE.to_csv(\"SUM_PROCEDURE.csv\",index = False)"
   ]
  },
  {
   "cell_type": "code",
   "execution_count": 23,
   "id": "1b017e6a-5854-4846-8937-e9a47eb5b656",
   "metadata": {
    "tags": []
   },
   "outputs": [
    {
     "name": "stderr",
     "output_type": "stream",
     "text": [
      "/var/folders/27/jq9bv3q96zl_n2fzdcprjnt40000gn/T/ipykernel_44524/1857263934.py:1: DtypeWarning: Columns (11) have mixed types. Specify dtype option on import or set low_memory=False.\n",
      "  med = pd.read_csv(\"/Users/lisonghe/Library/CloudStorage/OneDrive-JohnsHopkins/Semester 2/602 Research and Design in Data Mining/files/MEDICATION.csv\")\n"
     ]
    }
   ],
   "source": [
    "med = pd.read_csv(\"/Users/lisonghe/Library/CloudStorage/OneDrive-JohnsHopkins/Semester 2/602 Research and Design in Data Mining/files/MEDICATION.csv\")\n",
    "med_unique = med.drop_duplicates(subset=['STUDY_PAT_ID', 'MEDICATION_DESCR'])\n",
    "med_unique = med_unique[['STUDY_PAT_ID', 'MEDICATION_DESCR']]"
   ]
  },
  {
   "cell_type": "code",
   "execution_count": null,
   "id": "1817b483-9260-46a1-8443-105444f426eb",
   "metadata": {},
   "outputs": [],
   "source": []
  },
  {
   "cell_type": "code",
   "execution_count": 24,
   "id": "c3c5e231-df17-4a5f-9cdb-0a398b87006f",
   "metadata": {
    "tags": []
   },
   "outputs": [],
   "source": [
    "BMI_BP = pd.read_csv(\"/Users/lisonghe/Library/CloudStorage/OneDrive-JohnsHopkins/Semester 2/602 Research and Design in Data Mining/BMI_BP.csv\")"
   ]
  },
  {
   "cell_type": "code",
   "execution_count": 25,
   "id": "85d7604f-d9d8-46f0-89e5-ab097292eb8f",
   "metadata": {
    "tags": []
   },
   "outputs": [],
   "source": [
    "merged_df1 = pd.merge(sleep_study, BMI_BP, on='SLEEP_STUDY_ID')\n",
    "merged_df1 = merged_df1.rename(columns = {\"STUDY_PAT_ID_x\" : \"STUDY_PAT_ID\"})\n",
    "merged_df = pd.merge(merged_df1, SUM_DEMOGRAPHIC, on='STUDY_PAT_ID')\n",
    "merged_df.drop('STUDY_PAT_ID_y', axis=1, inplace=True)\n",
    "merged_df = merged_df.rename(columns = {\"AGE AT THE TIME\" : \"AGE\"})\n",
    "merged_df = merged_df.rename(columns = {\"SLEEP_STUDY_DURATION_DATETIME\" : \"SLEEP_DURATION\"})\n",
    "merged_df = merged_df.rename(columns = {\"PCORI_GENDER_CD\" : \"GENDER\"})\n",
    "merged_df = merged_df.rename(columns = {\"RACE_DESCR\" : \"RACE\", 'systolic blood pressure' : 'HIGH BP', \n",
    "                               'diastolic blood pressure' : 'LOW BP'})\n",
    "# grouped = merged_df.groupby('STUDY_PAT_ID').apply(lambda x: {\n",
    "#     'gender': x['PCORI_GENDER_CD'].iloc[0],\n",
    "#     'race': x['RACE_DESCR'].iloc[0],\n",
    "#     'study_ids': x['SLEEP_STUDY_ID'].tolist(),\n",
    "#     'age_at_the_time': [round(age, 2) for age in x['AGE AT THE TIME']],\n",
    "#     'sleep_study_duration': [time.strip() for time in x['SLEEP_STUDY_DURATION_DATETIME'].astype(str)],\n",
    "#      'BMI':x['BMI'].tolist(),\n",
    "#     'systolic blood pressure':x['systolic blood pressure'].tolist(),\n",
    "#     'diastolic blood pressure':x['diastolic blood pressure'].tolist()\n",
    "# }).to_dict()\n",
    "\n",
    "# list(grouped.items())[:10]"
   ]
  },
  {
   "cell_type": "code",
   "execution_count": 26,
   "id": "068980f1-ad2a-4143-94d1-aac50e89d70f",
   "metadata": {
    "tags": []
   },
   "outputs": [
    {
     "data": {
      "text/html": [
       "<div>\n",
       "<style scoped>\n",
       "    .dataframe tbody tr th:only-of-type {\n",
       "        vertical-align: middle;\n",
       "    }\n",
       "\n",
       "    .dataframe tbody tr th {\n",
       "        vertical-align: top;\n",
       "    }\n",
       "\n",
       "    .dataframe thead th {\n",
       "        text-align: right;\n",
       "    }\n",
       "</style>\n",
       "<table border=\"1\" class=\"dataframe\">\n",
       "  <thead>\n",
       "    <tr style=\"text-align: right;\">\n",
       "      <th></th>\n",
       "      <th>STUDY_PAT_ID</th>\n",
       "      <th>SLEEP_STUDY_ID</th>\n",
       "      <th>AGE</th>\n",
       "      <th>SLEEP_DURATION</th>\n",
       "      <th>HIGH BP</th>\n",
       "      <th>LOW BP</th>\n",
       "      <th>BMI</th>\n",
       "      <th>GENDER</th>\n",
       "      <th>RACE</th>\n",
       "    </tr>\n",
       "  </thead>\n",
       "  <tbody>\n",
       "    <tr>\n",
       "      <th>0</th>\n",
       "      <td>1</td>\n",
       "      <td>4789</td>\n",
       "      <td>9.145205</td>\n",
       "      <td>9:35:32</td>\n",
       "      <td>105.0</td>\n",
       "      <td>65.0</td>\n",
       "      <td>17.37</td>\n",
       "      <td>M</td>\n",
       "      <td>White</td>\n",
       "    </tr>\n",
       "    <tr>\n",
       "      <th>1</th>\n",
       "      <td>7</td>\n",
       "      <td>12595</td>\n",
       "      <td>2.123288</td>\n",
       "      <td>11:22:32</td>\n",
       "      <td>120.0</td>\n",
       "      <td>54.0</td>\n",
       "      <td>15.63</td>\n",
       "      <td>F</td>\n",
       "      <td>White</td>\n",
       "    </tr>\n",
       "    <tr>\n",
       "      <th>2</th>\n",
       "      <td>10</td>\n",
       "      <td>22339</td>\n",
       "      <td>13.101370</td>\n",
       "      <td>11:14:13</td>\n",
       "      <td>127.0</td>\n",
       "      <td>70.0</td>\n",
       "      <td>31.75</td>\n",
       "      <td>F</td>\n",
       "      <td>Black or African American</td>\n",
       "    </tr>\n",
       "    <tr>\n",
       "      <th>3</th>\n",
       "      <td>16</td>\n",
       "      <td>24241</td>\n",
       "      <td>12.076712</td>\n",
       "      <td>10:03:36</td>\n",
       "      <td>102.0</td>\n",
       "      <td>65.0</td>\n",
       "      <td>16.17</td>\n",
       "      <td>M</td>\n",
       "      <td>White</td>\n",
       "    </tr>\n",
       "    <tr>\n",
       "      <th>4</th>\n",
       "      <td>22</td>\n",
       "      <td>23233</td>\n",
       "      <td>4.739726</td>\n",
       "      <td>11:15:36</td>\n",
       "      <td>86.0</td>\n",
       "      <td>52.0</td>\n",
       "      <td>18.04</td>\n",
       "      <td>M</td>\n",
       "      <td>Black or African American</td>\n",
       "    </tr>\n",
       "    <tr>\n",
       "      <th>5</th>\n",
       "      <td>25</td>\n",
       "      <td>18085</td>\n",
       "      <td>17.926027</td>\n",
       "      <td>12:52:22</td>\n",
       "      <td>146.0</td>\n",
       "      <td>96.0</td>\n",
       "      <td>46.87</td>\n",
       "      <td>M</td>\n",
       "      <td>White</td>\n",
       "    </tr>\n",
       "    <tr>\n",
       "      <th>6</th>\n",
       "      <td>25</td>\n",
       "      <td>10579</td>\n",
       "      <td>18.906849</td>\n",
       "      <td>10:22:20</td>\n",
       "      <td>124.0</td>\n",
       "      <td>79.0</td>\n",
       "      <td>48.45</td>\n",
       "      <td>M</td>\n",
       "      <td>White</td>\n",
       "    </tr>\n",
       "    <tr>\n",
       "      <th>7</th>\n",
       "      <td>28</td>\n",
       "      <td>15280</td>\n",
       "      <td>6.169863</td>\n",
       "      <td>10:34:00</td>\n",
       "      <td>NaN</td>\n",
       "      <td>NaN</td>\n",
       "      <td>16.10</td>\n",
       "      <td>M</td>\n",
       "      <td>White</td>\n",
       "    </tr>\n",
       "    <tr>\n",
       "      <th>8</th>\n",
       "      <td>31</td>\n",
       "      <td>4429</td>\n",
       "      <td>3.139726</td>\n",
       "      <td>11:09:32</td>\n",
       "      <td>88.0</td>\n",
       "      <td>61.0</td>\n",
       "      <td>16.22</td>\n",
       "      <td>F</td>\n",
       "      <td>Black or African American</td>\n",
       "    </tr>\n",
       "    <tr>\n",
       "      <th>9</th>\n",
       "      <td>37</td>\n",
       "      <td>14779</td>\n",
       "      <td>9.605479</td>\n",
       "      <td>9:53:30</td>\n",
       "      <td>141.0</td>\n",
       "      <td>101.0</td>\n",
       "      <td>38.76</td>\n",
       "      <td>M</td>\n",
       "      <td>White</td>\n",
       "    </tr>\n",
       "  </tbody>\n",
       "</table>\n",
       "</div>"
      ],
      "text/plain": [
       "   STUDY_PAT_ID  SLEEP_STUDY_ID        AGE SLEEP_DURATION  HIGH BP  LOW BP  \\\n",
       "0             1            4789   9.145205        9:35:32    105.0    65.0   \n",
       "1             7           12595   2.123288       11:22:32    120.0    54.0   \n",
       "2            10           22339  13.101370       11:14:13    127.0    70.0   \n",
       "3            16           24241  12.076712       10:03:36    102.0    65.0   \n",
       "4            22           23233   4.739726       11:15:36     86.0    52.0   \n",
       "5            25           18085  17.926027       12:52:22    146.0    96.0   \n",
       "6            25           10579  18.906849       10:22:20    124.0    79.0   \n",
       "7            28           15280   6.169863       10:34:00      NaN     NaN   \n",
       "8            31            4429   3.139726       11:09:32     88.0    61.0   \n",
       "9            37           14779   9.605479        9:53:30    141.0   101.0   \n",
       "\n",
       "     BMI GENDER                       RACE  \n",
       "0  17.37      M                      White  \n",
       "1  15.63      F                      White  \n",
       "2  31.75      F  Black or African American  \n",
       "3  16.17      M                      White  \n",
       "4  18.04      M  Black or African American  \n",
       "5  46.87      M                      White  \n",
       "6  48.45      M                      White  \n",
       "7  16.10      M                      White  \n",
       "8  16.22      F  Black or African American  \n",
       "9  38.76      M                      White  "
      ]
     },
     "execution_count": 26,
     "metadata": {},
     "output_type": "execute_result"
    }
   ],
   "source": [
    "merged_df.head(10)"
   ]
  },
  {
   "cell_type": "code",
   "execution_count": 27,
   "id": "001a4d59-3980-45b9-91e9-f29705bebc08",
   "metadata": {
    "tags": []
   },
   "outputs": [],
   "source": [
    "merged_df.to_csv(\"merged.csv\", index = False)"
   ]
  },
  {
   "cell_type": "code",
   "execution_count": null,
   "id": "41e65db9-b58c-4ea0-9a46-1b4ccbe2db66",
   "metadata": {},
   "outputs": [],
   "source": []
  },
  {
   "cell_type": "code",
   "execution_count": 47,
   "id": "83d6610f-bff4-45a4-a0da-bd841bf080bb",
   "metadata": {
    "tags": []
   },
   "outputs": [
    {
     "data": {
      "image/png": "[encoded data removed]",
      "text/plain": [
       "<Figure size 640x480 with 1 Axes>"
      ]
     },
     "metadata": {},
     "output_type": "display_data"
    }
   ],
   "source": [
    "# BMI vs AGE\n",
    "merged_df = pd.read_csv('/Users/lisonghe/Library/CloudStorage/OneDrive-JohnsHopkins/Semester 2/602 Research and Design in Data Mining/merged.csv')\n",
    "import matplotlib.pyplot as plt\n",
    "from sklearn.linear_model import LinearRegression\n",
    "# Fit a linear regression model\n",
    "merged_df['SLEEP_DURATION'] = pd.to_timedelta(merged_df['SLEEP_DURATION'])\n",
    "merged_df['SLEEP_MIN'] = merged_df['SLEEP_DURATION'].dt.total_seconds() / 60\n",
    "clean_df = merged_df.dropna(subset=['AGE', 'BMI'])\n",
    "X = clean_df[['AGE']]\n",
    "y = clean_df['BMI'] \n",
    "model = LinearRegression()\n",
    "model.fit(X, y)\n",
    "slope = model.coef_[0]\n",
    "intercept = model.intercept_\n",
    "regression_line_expr = f'BMI = {slope:.2f}*AGE + {intercept:.2f}'\n",
    "# Plot the regression line\n",
    "predicted = model.predict(X)\n",
    "plt.scatter(merged_df['AGE'], merged_df['BMI'])\n",
    "plt.title('Relationship between AGE and BMI')\n",
    "plt.xlabel('AGE (year)')\n",
    "plt.ylabel('BMI')\n",
    "plt.plot(clean_df['AGE'], predicted, color='red', label=regression_line_expr)\n",
    "plt.grid(True)\n",
    "plt.legend()\n",
    "plt.show()"
   ]
  },
  {
   "cell_type": "code",
   "execution_count": 48,
   "id": "59504eac-977e-4151-b15e-37739545dde5",
   "metadata": {
    "tags": []
   },
   "outputs": [
    {
     "data": {
      "image/png": "[encoded data removed]",
      "text/plain": [
       "<Figure size 640x480 with 1 Axes>"
      ]
     },
     "metadata": {},
     "output_type": "display_data"
    }
   ],
   "source": [
    "# SLEEP_MIN vs AGE\n",
    "merged_df = pd.read_csv('/Users/lisonghe/Library/CloudStorage/OneDrive-JohnsHopkins/Semester 2/602 Research and Design in Data Mining/merged.csv')\n",
    "import matplotlib.pyplot as plt\n",
    "from sklearn.linear_model import LinearRegression\n",
    "# Fit a linear regression model\n",
    "merged_df['SLEEP_DURATION'] = pd.to_timedelta(merged_df['SLEEP_DURATION'])\n",
    "merged_df['SLEEP_MIN'] = merged_df['SLEEP_DURATION'].dt.total_seconds() / 60\n",
    "clean_df = merged_df.dropna(subset=['AGE', 'SLEEP_MIN'])\n",
    "X = clean_df[['AGE']]\n",
    "y = clean_df['SLEEP_MIN'] \n",
    "model = LinearRegression()\n",
    "model.fit(X, y)\n",
    "slope = model.coef_[0]\n",
    "intercept = model.intercept_\n",
    "regression_line_expr = f'SLEEP_MIN = {slope:.2f}*AGE + {intercept:.2f}'\n",
    "# Plot the regression line\n",
    "predicted = model.predict(X)\n",
    "plt.scatter(merged_df['AGE'], merged_df['SLEEP_MIN'])\n",
    "plt.title('Relationship between AGE and SLEEP_MIN')\n",
    "plt.xlabel('AGE (year)')\n",
    "plt.ylabel('SLEEP_MIN')\n",
    "plt.plot(clean_df['AGE'], predicted, color='red', label=regression_line_expr)\n",
    "plt.grid(True)\n",
    "plt.legend()\n",
    "plt.show()"
   ]
  },
  {
   "cell_type": "code",
   "execution_count": 45,
   "id": "9336ab49-3613-434d-aeb9-146750900808",
   "metadata": {
    "tags": []
   },
   "outputs": [
    {
     "data": {
      "image/png": "[encoded data removed]",
      "text/plain": [
       "<Figure size 640x480 with 1 Axes>"
      ]
     },
     "metadata": {},
     "output_type": "display_data"
    }
   ],
   "source": [
    "# SLEEP_MIN vs BMI\n",
    "merged_df = pd.read_csv('/Users/lisonghe/Library/CloudStorage/OneDrive-JohnsHopkins/Semester 2/602 Research and Design in Data Mining/merged.csv')\n",
    "import matplotlib.pyplot as plt\n",
    "from sklearn.linear_model import LinearRegression\n",
    "# Fit a linear regression model\n",
    "merged_df['SLEEP_DURATION'] = pd.to_timedelta(merged_df['SLEEP_DURATION'])\n",
    "merged_df['SLEEP_MIN'] = merged_df['SLEEP_DURATION'].dt.total_seconds() / 60\n",
    "clean_df = merged_df.dropna(subset=['BMI', 'SLEEP_MIN'])\n",
    "X = clean_df[['BMI']]\n",
    "y = clean_df['SLEEP_MIN'] \n",
    "model = LinearRegression()\n",
    "model.fit(X, y)\n",
    "slope = model.coef_[0]\n",
    "intercept = model.intercept_\n",
    "regression_line_expr = f'SLEEP_MIN = {slope:.2f}*BMI + {intercept:.2f}'\n",
    "# Plot the regression line\n",
    "predicted = model.predict(X)\n",
    "plt.scatter(merged_df['BMI'], merged_df['SLEEP_MIN'])\n",
    "plt.title('Relationship between SLEEP_MIN and BMI')\n",
    "plt.xlabel('BMI')\n",
    "plt.ylabel('SLEEP_MIN')\n",
    "plt.plot(clean_df['BMI'], predicted, color='red', label=regression_line_expr)\n",
    "plt.grid(True)\n",
    "plt.legend()\n",
    "plt.xlim(0, 85)  # Set x-axis limits from 0 to 100\n",
    "plt.ylim(0, 1000)  # Set y-axis limits from 0 to 500\n",
    "plt.show()"
   ]
  },
  {
   "cell_type": "code",
   "execution_count": 44,
   "id": "36e76170-9dad-4e86-9f5a-c9d0a6275544",
   "metadata": {
    "tags": []
   },
   "outputs": [
    {
     "data": {
      "image/png": "[encoded data removed]",
      "text/plain": [
       "<Figure size 640x480 with 1 Axes>"
      ]
     },
     "metadata": {},
     "output_type": "display_data"
    }
   ],
   "source": [
    "clean_df = merged_df.dropna(subset=['BMI', 'SLEEP_MIN'])\n",
    "X = clean_df[['BMI']]\n",
    "y = clean_df['SLEEP_MIN'] \n",
    "model = LinearRegression()\n",
    "model.fit(X, y)\n",
    "\n",
    "slope = model.coef_[0]\n",
    "intercept = model.intercept_\n",
    "regression_line_expr = f'SLEEP_MIN = {slope:.2f}*BMI + {intercept:.2f}'\n",
    "# Plot the regression line\n",
    "predicted = model.predict(X)\n",
    "plt.scatter(merged_df['BMI'], merged_df['SLEEP_MIN'])\n",
    "plt.title('Relationship between SLEEP_MIN and BMI')\n",
    "plt.xlabel('BMI')\n",
    "plt.ylabel('SLEEP_MIN')\n",
    "plt.plot(clean_df['BMI'], predicted, color='red', label=regression_line_expr)\n",
    "plt.grid(True)\n",
    "plt.legend()\n",
    "plt.xlim(0, 85)  # Set x-axis limits from 0 to 100\n",
    "plt.ylim(0, 1000)  # Set y-axis limits from 0 to 500\n",
    "plt.show()"
   ]
  },
  {
   "cell_type": "code",
   "execution_count": 3,
   "id": "c24bf805-1d88-4b7e-9ac0-d59f13cd611e",
   "metadata": {},
   "outputs": [],
   "source": [
    "dg = pd.read_csv('/Users/lisonghe/Library/CloudStorage/OneDrive-JohnsHopkins/Semester 2/602 Research and Design in Data Mining/files/DIAGNOSIS.csv')"
   ]
  },
  {
   "cell_type": "code",
   "execution_count": 5,
   "id": "ca3740ae-8dd2-4680-9b4f-b1a01f4a08c6",
   "metadata": {},
   "outputs": [
    {
     "data": {
      "text/plain": [
       "2583"
      ]
     },
     "execution_count": 5,
     "metadata": {},
     "output_type": "execute_result"
    }
   ],
   "source": [
    "dg['DX_NAME'].str.contains(\"Apnea\").sum()"
   ]
  },
  {
   "cell_type": "code",
   "execution_count": 7,
   "id": "10f13acb-a837-44e1-b8ef-433d4558b24a",
   "metadata": {
    "tags": []
   },
   "outputs": [
    {
     "data": {
      "text/html": [
       "<div>\n",
       "<style scoped>\n",
       "    .dataframe tbody tr th:only-of-type {\n",
       "        vertical-align: middle;\n",
       "    }\n",
       "\n",
       "    .dataframe tbody tr th {\n",
       "        vertical-align: top;\n",
       "    }\n",
       "\n",
       "    .dataframe thead th {\n",
       "        text-align: right;\n",
       "    }\n",
       "</style>\n",
       "<table border=\"1\" class=\"dataframe\">\n",
       "  <thead>\n",
       "    <tr style=\"text-align: right;\">\n",
       "      <th></th>\n",
       "      <th>Unnamed: 0</th>\n",
       "      <th>STUDY_DX_ID</th>\n",
       "      <th>STUDY_ENC_ID</th>\n",
       "      <th>STUDY_PAT_ID</th>\n",
       "      <th>DX_START_DATETIME</th>\n",
       "      <th>DX_END_DATETIME</th>\n",
       "      <th>DX_SOURCE_TYPE</th>\n",
       "      <th>DX_ENC_TYPE</th>\n",
       "      <th>DX_CODE_TYPE</th>\n",
       "      <th>DX_CODE</th>\n",
       "      <th>DX_NAME</th>\n",
       "      <th>DX_ALT_CODE</th>\n",
       "      <th>CLASS_OF_PROBLEM</th>\n",
       "      <th>CHRONIC_YN</th>\n",
       "      <th>PROV_ID</th>\n",
       "    </tr>\n",
       "  </thead>\n",
       "  <tbody>\n",
       "    <tr>\n",
       "      <th>3494</th>\n",
       "      <td>3494</td>\n",
       "      <td>13798</td>\n",
       "      <td>56418598</td>\n",
       "      <td>8206</td>\n",
       "      <td>2015-10-24 14:33:00</td>\n",
       "      <td>2015-11-12 17:27:00</td>\n",
       "      <td>Final Dx</td>\n",
       "      <td>Final Dx</td>\n",
       "      <td>ICD10</td>\n",
       "      <td>R06.81</td>\n",
       "      <td>Apnea, not elsewhere classified</td>\n",
       "      <td>NaN</td>\n",
       "      <td>NaN</td>\n",
       "      <td>NaN</td>\n",
       "      <td>3001366.0</td>\n",
       "    </tr>\n",
       "    <tr>\n",
       "      <th>3543</th>\n",
       "      <td>3543</td>\n",
       "      <td>13847</td>\n",
       "      <td>56795641</td>\n",
       "      <td>2263</td>\n",
       "      <td>2018-03-18 12:05:00</td>\n",
       "      <td>2018-03-23 14:59:00</td>\n",
       "      <td>Final Dx</td>\n",
       "      <td>Final Dx</td>\n",
       "      <td>ICD10</td>\n",
       "      <td>R06.81</td>\n",
       "      <td>Apnea, not elsewhere classified</td>\n",
       "      <td>NaN</td>\n",
       "      <td>NaN</td>\n",
       "      <td>NaN</td>\n",
       "      <td>3001366.0</td>\n",
       "    </tr>\n",
       "    <tr>\n",
       "      <th>3762</th>\n",
       "      <td>3762</td>\n",
       "      <td>14088</td>\n",
       "      <td>56652670</td>\n",
       "      <td>13357</td>\n",
       "      <td>2019-01-21 00:00:00</td>\n",
       "      <td>2019-01-21 00:00:00</td>\n",
       "      <td>Secondary Encounter Dx</td>\n",
       "      <td>Encounter Dx</td>\n",
       "      <td>ICD10</td>\n",
       "      <td>R06.81</td>\n",
       "      <td>Apnea</td>\n",
       "      <td>786.03</td>\n",
       "      <td>NaN</td>\n",
       "      <td>NaN</td>\n",
       "      <td>3001366.0</td>\n",
       "    </tr>\n",
       "    <tr>\n",
       "      <th>3855</th>\n",
       "      <td>3855</td>\n",
       "      <td>14185</td>\n",
       "      <td>56484661</td>\n",
       "      <td>9838</td>\n",
       "      <td>2017-07-27 23:06:00</td>\n",
       "      <td>2017-07-30 14:41:00</td>\n",
       "      <td>Final Dx</td>\n",
       "      <td>Final Dx</td>\n",
       "      <td>ICD10</td>\n",
       "      <td>R06.81</td>\n",
       "      <td>Apnea, not elsewhere classified</td>\n",
       "      <td>NaN</td>\n",
       "      <td>NaN</td>\n",
       "      <td>NaN</td>\n",
       "      <td>3001366.0</td>\n",
       "    </tr>\n",
       "    <tr>\n",
       "      <th>3945</th>\n",
       "      <td>3945</td>\n",
       "      <td>14275</td>\n",
       "      <td>56444992</td>\n",
       "      <td>11458</td>\n",
       "      <td>2019-07-30 00:00:00</td>\n",
       "      <td>2019-07-30 00:00:00</td>\n",
       "      <td>Secondary Encounter Dx</td>\n",
       "      <td>Encounter Dx</td>\n",
       "      <td>ICD10</td>\n",
       "      <td>R06.81</td>\n",
       "      <td>Apnea in pediatric patient</td>\n",
       "      <td>786.03</td>\n",
       "      <td>NaN</td>\n",
       "      <td>NaN</td>\n",
       "      <td>3001366.0</td>\n",
       "    </tr>\n",
       "    <tr>\n",
       "      <th>...</th>\n",
       "      <td>...</td>\n",
       "      <td>...</td>\n",
       "      <td>...</td>\n",
       "      <td>...</td>\n",
       "      <td>...</td>\n",
       "      <td>...</td>\n",
       "      <td>...</td>\n",
       "      <td>...</td>\n",
       "      <td>...</td>\n",
       "      <td>...</td>\n",
       "      <td>...</td>\n",
       "      <td>...</td>\n",
       "      <td>...</td>\n",
       "      <td>...</td>\n",
       "      <td>...</td>\n",
       "    </tr>\n",
       "    <tr>\n",
       "      <th>1508999</th>\n",
       "      <td>1508999</td>\n",
       "      <td>1642718</td>\n",
       "      <td>55526353</td>\n",
       "      <td>13717</td>\n",
       "      <td>2011-05-13 00:00:00</td>\n",
       "      <td>2011-08-29 00:00:00</td>\n",
       "      <td>Resolved</td>\n",
       "      <td>Problem List Dx</td>\n",
       "      <td>ICD9</td>\n",
       "      <td>770.82</td>\n",
       "      <td>Apnea of prematurity</td>\n",
       "      <td>P28.4</td>\n",
       "      <td>NaN</td>\n",
       "      <td>N</td>\n",
       "      <td>NaN</td>\n",
       "    </tr>\n",
       "    <tr>\n",
       "      <th>1509007</th>\n",
       "      <td>1509007</td>\n",
       "      <td>1642726</td>\n",
       "      <td>55526353</td>\n",
       "      <td>13717</td>\n",
       "      <td>2011-05-13 00:00:00</td>\n",
       "      <td>2011-08-29 00:00:00</td>\n",
       "      <td>Resolved</td>\n",
       "      <td>Problem List Dx</td>\n",
       "      <td>ICD9</td>\n",
       "      <td>765.10</td>\n",
       "      <td>Apnea of prematurity</td>\n",
       "      <td>P28.4</td>\n",
       "      <td>NaN</td>\n",
       "      <td>N</td>\n",
       "      <td>NaN</td>\n",
       "    </tr>\n",
       "    <tr>\n",
       "      <th>1509203</th>\n",
       "      <td>1509203</td>\n",
       "      <td>1642930</td>\n",
       "      <td>55765828</td>\n",
       "      <td>6595</td>\n",
       "      <td>2012-03-25 00:00:00</td>\n",
       "      <td>2012-04-04 00:00:00</td>\n",
       "      <td>Resolved</td>\n",
       "      <td>Problem List Dx</td>\n",
       "      <td>ICD9</td>\n",
       "      <td>770.82</td>\n",
       "      <td>Apnea of prematurity</td>\n",
       "      <td>P28.4</td>\n",
       "      <td>NaN</td>\n",
       "      <td>N</td>\n",
       "      <td>NaN</td>\n",
       "    </tr>\n",
       "    <tr>\n",
       "      <th>1509207</th>\n",
       "      <td>1509207</td>\n",
       "      <td>1642934</td>\n",
       "      <td>55765828</td>\n",
       "      <td>6595</td>\n",
       "      <td>2012-03-25 00:00:00</td>\n",
       "      <td>2012-04-04 00:00:00</td>\n",
       "      <td>Resolved</td>\n",
       "      <td>Problem List Dx</td>\n",
       "      <td>ICD9</td>\n",
       "      <td>765.10</td>\n",
       "      <td>Apnea of prematurity</td>\n",
       "      <td>P28.4</td>\n",
       "      <td>NaN</td>\n",
       "      <td>N</td>\n",
       "      <td>NaN</td>\n",
       "    </tr>\n",
       "    <tr>\n",
       "      <th>1509553</th>\n",
       "      <td>1509553</td>\n",
       "      <td>1643311</td>\n",
       "      <td>56697967</td>\n",
       "      <td>9310</td>\n",
       "      <td>2009-11-18 00:00:00</td>\n",
       "      <td>2009-11-19 00:00:00</td>\n",
       "      <td>Resolved</td>\n",
       "      <td>Problem List Dx</td>\n",
       "      <td>ICD9</td>\n",
       "      <td>786.03</td>\n",
       "      <td>Apnea</td>\n",
       "      <td>R06.81</td>\n",
       "      <td>NaN</td>\n",
       "      <td>N</td>\n",
       "      <td>NaN</td>\n",
       "    </tr>\n",
       "  </tbody>\n",
       "</table>\n",
       "<p>2583 rows × 15 columns</p>\n",
       "</div>"
      ],
      "text/plain": [
       "         Unnamed: 0  STUDY_DX_ID  STUDY_ENC_ID  STUDY_PAT_ID  \\\n",
       "3494           3494        13798      56418598          8206   \n",
       "3543           3543        13847      56795641          2263   \n",
       "3762           3762        14088      56652670         13357   \n",
       "3855           3855        14185      56484661          9838   \n",
       "3945           3945        14275      56444992         11458   \n",
       "...             ...          ...           ...           ...   \n",
       "1508999     1508999      1642718      55526353         13717   \n",
       "1509007     1509007      1642726      55526353         13717   \n",
       "1509203     1509203      1642930      55765828          6595   \n",
       "1509207     1509207      1642934      55765828          6595   \n",
       "1509553     1509553      1643311      56697967          9310   \n",
       "\n",
       "           DX_START_DATETIME      DX_END_DATETIME          DX_SOURCE_TYPE  \\\n",
       "3494     2015-10-24 14:33:00  2015-11-12 17:27:00                Final Dx   \n",
       "3543     2018-03-18 12:05:00  2018-03-23 14:59:00                Final Dx   \n",
       "3762     2019-01-21 00:00:00  2019-01-21 00:00:00  Secondary Encounter Dx   \n",
       "3855     2017-07-27 23:06:00  2017-07-30 14:41:00                Final Dx   \n",
       "3945     2019-07-30 00:00:00  2019-07-30 00:00:00  Secondary Encounter Dx   \n",
       "...                      ...                  ...                     ...   \n",
       "1508999  2011-05-13 00:00:00  2011-08-29 00:00:00                Resolved   \n",
       "1509007  2011-05-13 00:00:00  2011-08-29 00:00:00                Resolved   \n",
       "1509203  2012-03-25 00:00:00  2012-04-04 00:00:00                Resolved   \n",
       "1509207  2012-03-25 00:00:00  2012-04-04 00:00:00                Resolved   \n",
       "1509553  2009-11-18 00:00:00  2009-11-19 00:00:00                Resolved   \n",
       "\n",
       "             DX_ENC_TYPE DX_CODE_TYPE DX_CODE  \\\n",
       "3494            Final Dx        ICD10  R06.81   \n",
       "3543            Final Dx        ICD10  R06.81   \n",
       "3762        Encounter Dx        ICD10  R06.81   \n",
       "3855            Final Dx        ICD10  R06.81   \n",
       "3945        Encounter Dx        ICD10  R06.81   \n",
       "...                  ...          ...     ...   \n",
       "1508999  Problem List Dx         ICD9  770.82   \n",
       "1509007  Problem List Dx         ICD9  765.10   \n",
       "1509203  Problem List Dx         ICD9  770.82   \n",
       "1509207  Problem List Dx         ICD9  765.10   \n",
       "1509553  Problem List Dx         ICD9  786.03   \n",
       "\n",
       "                                 DX_NAME DX_ALT_CODE CLASS_OF_PROBLEM  \\\n",
       "3494     Apnea, not elsewhere classified         NaN              NaN   \n",
       "3543     Apnea, not elsewhere classified         NaN              NaN   \n",
       "3762                               Apnea      786.03              NaN   \n",
       "3855     Apnea, not elsewhere classified         NaN              NaN   \n",
       "3945          Apnea in pediatric patient      786.03              NaN   \n",
       "...                                  ...         ...              ...   \n",
       "1508999             Apnea of prematurity       P28.4              NaN   \n",
       "1509007             Apnea of prematurity       P28.4              NaN   \n",
       "1509203             Apnea of prematurity       P28.4              NaN   \n",
       "1509207             Apnea of prematurity       P28.4              NaN   \n",
       "1509553                            Apnea      R06.81              NaN   \n",
       "\n",
       "        CHRONIC_YN    PROV_ID  \n",
       "3494           NaN  3001366.0  \n",
       "3543           NaN  3001366.0  \n",
       "3762           NaN  3001366.0  \n",
       "3855           NaN  3001366.0  \n",
       "3945           NaN  3001366.0  \n",
       "...            ...        ...  \n",
       "1508999          N        NaN  \n",
       "1509007          N        NaN  \n",
       "1509203          N        NaN  \n",
       "1509207          N        NaN  \n",
       "1509553          N        NaN  \n",
       "\n",
       "[2583 rows x 15 columns]"
      ]
     },
     "execution_count": 7,
     "metadata": {},
     "output_type": "execute_result"
    }
   ],
   "source": [
    "dg[dg['DX_NAME'].str.contains(\"Apnea\")]"
   ]
  },
  {
   "cell_type": "code",
   "execution_count": null,
   "id": "9295220d-0cb8-48c8-92e7-a2f6faee850e",
   "metadata": {},
   "outputs": [],
   "source": []
  }
 ],
 "metadata": {
  "kernelspec": {
   "display_name": "Python 3 (ipykernel)",
   "language": "python",
   "name": "python3"
  },
  "language_info": {
   "codemirror_mode": {
    "name": "ipython",
    "version": 3
   },
   "file_extension": ".py",
   "mimetype": "text/x-python",
   "name": "python",
   "nbconvert_exporter": "python",
   "pygments_lexer": "ipython3",
   "version": "3.11.4"
  }
 },
 "nbformat": 4,
 "nbformat_minor": 5
}
