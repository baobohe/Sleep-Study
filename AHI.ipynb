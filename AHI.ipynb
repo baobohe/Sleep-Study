{
 "cells": [
  {
   "cell_type": "code",
   "execution_count": 3,
   "id": "f1f98001-b149-4ef1-a2d0-9b2c89ac0e22",
   "metadata": {
    "tags": []
   },
   "outputs": [
    {
     "name": "stdout",
     "output_type": "stream",
     "text": [
      "                     AHI\n",
      "SLEEP_STUDY_ID          \n",
      "25000           0.351562\n",
      "3868            0.000000\n",
      "3241            0.382572\n",
      "12052           0.268757\n",
      "10429           2.649842\n",
      "...                  ...\n",
      "16237           0.000000\n",
      "17761           0.000000\n",
      "3415            3.294951\n",
      "10120           6.250000\n",
      "5329            0.255864\n",
      "\n",
      "[3984 rows x 1 columns]\n"
     ]
    }
   ],
   "source": [
    "import os\n",
    "import pandas as pd\n",
    "\n",
    "def ApneaIndex(data):\n",
    "    apnea_count = data[data['description'].str.contains('apnea', case=False, na=False)].shape[0]\n",
    "    hypopnea_count = data[data['description'].str.contains('hypopnea', case=False, na=False)].shape[0]\n",
    "    count_sleep = data[data['description'].str.contains('sleep stage', case=False, na=False)].shape[0]\n",
    "    count_sleep_del = data[data['description'] == 'Sleep stage ?'].shape[0]\n",
    "    time = (count_sleep - count_sleep_del) * 30 / 3600  # Assuming each sleep stage represents 30 seconds\n",
    "    if time == 0:  # Prevent division by zero\n",
    "        return None\n",
    "    AHI = (apnea_count + hypopnea_count) / time\n",
    "    return AHI\n",
    "\n",
    "# Path to the directory containing the .tsv files\n",
    "directory_path = '/Users/lisonghe/Library/CloudStorage/OneDrive-JohnsHopkins/Semester 2/602 Research and Design in Data Mining/sleep data/tsv'\n",
    "\n",
    "# List or dictionary to store the AHI values with identifiers\n",
    "AHI_data = {}\n",
    "\n",
    "# Loop through all files in the directory\n",
    "for filename in os.listdir(directory_path):\n",
    "    # Check if the file is a .tsv file\n",
    "    if filename.endswith('.tsv'):\n",
    "        SLEEP_STUDY_ID = filename.split('_')[-1].split('.')[0]  # Extract the identifier after the underscore\n",
    "        file_path = os.path.join(directory_path, filename)\n",
    "        try:\n",
    "            # Read the .tsv file\n",
    "            data = pd.read_csv(file_path, delimiter='\\t')\n",
    "            # Calculate AHI and add to the dictionary with the identifier as key\n",
    "            AHI_data[int(SLEEP_STUDY_ID)] = ApneaIndex(data)\n",
    "        except Exception as e:\n",
    "            print(f\"Error processing file {filename}: {e}\")\n",
    "\n",
    "# Create a DataFrame from the AHI data\n",
    "AHI_df = pd.DataFrame(list(AHI_data.items()), columns=['SLEEP_STUDY_ID', 'AHI'])\n",
    "\n",
    "# Set the 'Identifier' as the index of the DataFrame\n",
    "AHI_df.set_index('SLEEP_STUDY_ID', inplace=True)\n",
    "\n",
    "# Now AHI_df is the desired DataFrame\n",
    "print(AHI_df)"
   ]
  },
  {
   "cell_type": "code",
   "execution_count": 31,
   "id": "0761c10f-7dff-4a3a-910a-618fc21faf82",
   "metadata": {
    "tags": []
   },
   "outputs": [
    {
     "data": {
      "text/plain": [
       "2.773810083143027"
      ]
     },
     "execution_count": 31,
     "metadata": {},
     "output_type": "execute_result"
    }
   ],
   "source": [
    "import numpy as np\n",
    "np.mean(AHI_df['AHI'])"
   ]
  },
  {
   "cell_type": "code",
   "execution_count": 32,
   "id": "20a30209-38eb-4a61-ae44-07b4658b0c6e",
   "metadata": {
    "tags": []
   },
   "outputs": [
    {
     "data": {
      "text/plain": [
       "7.123602108440383"
      ]
     },
     "execution_count": 32,
     "metadata": {},
     "output_type": "execute_result"
    }
   ],
   "source": [
    "np.std(AHI_df['AHI'])"
   ]
  },
  {
   "cell_type": "code",
   "execution_count": 11,
   "id": "6744d0e2-b703-4764-aca2-6c5b48d316d1",
   "metadata": {
    "tags": []
   },
   "outputs": [
    {
     "data": {
      "image/png": "[encoded data removed]",
      "text/plain": [
       "<Figure size 640x480 with 1 Axes>"
      ]
     },
     "metadata": {},
     "output_type": "display_data"
    }
   ],
   "source": [
    "import matplotlib.pyplot as plt\n",
    "plt.hist(AHI_df['AHI'], bins=75, edgecolor='black')\n",
    "plt.title('Histogram of AHI')\n",
    "plt.xlabel('AHI')\n",
    "plt.ylabel('Frequency')\n",
    "plt.show()"
   ]
  },
  {
   "cell_type": "code",
   "execution_count": 33,
   "id": "c3e9f6c2-15a7-4332-998a-779621cf3b01",
   "metadata": {
    "tags": []
   },
   "outputs": [],
   "source": [
    "merged = pd.read_csv('/Users/lisonghe/Library/CloudStorage/OneDrive-JohnsHopkins/Semester 2/602 Research and Design in Data Mining/merged.csv')"
   ]
  },
  {
   "cell_type": "code",
   "execution_count": 34,
   "id": "795a9ca1-217f-44bf-abdf-fad8246f1569",
   "metadata": {
    "tags": []
   },
   "outputs": [],
   "source": [
    "joined_df = pd.merge(merged, AHI_df, on='SLEEP_STUDY_ID', how='inner')"
   ]
  },
  {
   "cell_type": "code",
   "execution_count": 35,
   "id": "774b4e4b-d643-45b0-8941-edaf7a0ea562",
   "metadata": {
    "tags": []
   },
   "outputs": [
    {
     "data": {
      "text/html": [
       "<div>\n",
       "<style scoped>\n",
       "    .dataframe tbody tr th:only-of-type {\n",
       "        vertical-align: middle;\n",
       "    }\n",
       "\n",
       "    .dataframe tbody tr th {\n",
       "        vertical-align: top;\n",
       "    }\n",
       "\n",
       "    .dataframe thead th {\n",
       "        text-align: right;\n",
       "    }\n",
       "</style>\n",
       "<table border=\"1\" class=\"dataframe\">\n",
       "  <thead>\n",
       "    <tr style=\"text-align: right;\">\n",
       "      <th></th>\n",
       "      <th>STUDY_PAT_ID</th>\n",
       "      <th>SLEEP_STUDY_ID</th>\n",
       "      <th>AGE</th>\n",
       "      <th>SLEEP_DURATION</th>\n",
       "      <th>HIGH BP</th>\n",
       "      <th>LOW BP</th>\n",
       "      <th>BMI</th>\n",
       "      <th>GENDER</th>\n",
       "      <th>RACE</th>\n",
       "      <th>AHI</th>\n",
       "    </tr>\n",
       "  </thead>\n",
       "  <tbody>\n",
       "    <tr>\n",
       "      <th>0</th>\n",
       "      <td>1</td>\n",
       "      <td>4789</td>\n",
       "      <td>9.145205</td>\n",
       "      <td>9:35:32</td>\n",
       "      <td>105.0</td>\n",
       "      <td>65.0</td>\n",
       "      <td>17.37</td>\n",
       "      <td>M</td>\n",
       "      <td>White</td>\n",
       "      <td>0.000000</td>\n",
       "    </tr>\n",
       "    <tr>\n",
       "      <th>1</th>\n",
       "      <td>7</td>\n",
       "      <td>12595</td>\n",
       "      <td>2.123288</td>\n",
       "      <td>11:22:32</td>\n",
       "      <td>120.0</td>\n",
       "      <td>54.0</td>\n",
       "      <td>15.63</td>\n",
       "      <td>F</td>\n",
       "      <td>White</td>\n",
       "      <td>0.538117</td>\n",
       "    </tr>\n",
       "    <tr>\n",
       "      <th>2</th>\n",
       "      <td>10</td>\n",
       "      <td>22339</td>\n",
       "      <td>13.101370</td>\n",
       "      <td>11:14:13</td>\n",
       "      <td>127.0</td>\n",
       "      <td>70.0</td>\n",
       "      <td>31.75</td>\n",
       "      <td>F</td>\n",
       "      <td>Black or African American</td>\n",
       "      <td>3.472669</td>\n",
       "    </tr>\n",
       "    <tr>\n",
       "      <th>3</th>\n",
       "      <td>16</td>\n",
       "      <td>24241</td>\n",
       "      <td>12.076712</td>\n",
       "      <td>10:03:36</td>\n",
       "      <td>102.0</td>\n",
       "      <td>65.0</td>\n",
       "      <td>16.17</td>\n",
       "      <td>M</td>\n",
       "      <td>White</td>\n",
       "      <td>0.000000</td>\n",
       "    </tr>\n",
       "    <tr>\n",
       "      <th>4</th>\n",
       "      <td>22</td>\n",
       "      <td>23233</td>\n",
       "      <td>4.739726</td>\n",
       "      <td>11:15:36</td>\n",
       "      <td>86.0</td>\n",
       "      <td>52.0</td>\n",
       "      <td>18.04</td>\n",
       "      <td>M</td>\n",
       "      <td>Black or African American</td>\n",
       "      <td>0.276180</td>\n",
       "    </tr>\n",
       "  </tbody>\n",
       "</table>\n",
       "</div>"
      ],
      "text/plain": [
       "   STUDY_PAT_ID  SLEEP_STUDY_ID        AGE SLEEP_DURATION  HIGH BP  LOW BP  \\\n",
       "0             1            4789   9.145205        9:35:32    105.0    65.0   \n",
       "1             7           12595   2.123288       11:22:32    120.0    54.0   \n",
       "2            10           22339  13.101370       11:14:13    127.0    70.0   \n",
       "3            16           24241  12.076712       10:03:36    102.0    65.0   \n",
       "4            22           23233   4.739726       11:15:36     86.0    52.0   \n",
       "\n",
       "     BMI GENDER                       RACE       AHI  \n",
       "0  17.37      M                      White  0.000000  \n",
       "1  15.63      F                      White  0.538117  \n",
       "2  31.75      F  Black or African American  3.472669  \n",
       "3  16.17      M                      White  0.000000  \n",
       "4  18.04      M  Black or African American  0.276180  "
      ]
     },
     "execution_count": 35,
     "metadata": {},
     "output_type": "execute_result"
    }
   ],
   "source": [
    "joined_df.head()"
   ]
  },
  {
   "cell_type": "code",
   "execution_count": 36,
   "id": "b79f6341-9a38-4f69-ba0a-9ef9ee3370e2",
   "metadata": {
    "tags": []
   },
   "outputs": [],
   "source": [
    "joined_df.to_csv(\"merged.csv\", index=False)"
   ]
  },
  {
   "cell_type": "code",
   "execution_count": 38,
   "id": "a3dde28f-d6fe-499a-b241-ead414d64f5d",
   "metadata": {
    "tags": []
   },
   "outputs": [],
   "source": [
    "df = pd.read_csv('/Users/lisonghe/Library/CloudStorage/OneDrive-JohnsHopkins/Semester 2/602 Research and Design in Data Mining/merged.csv')\n",
    "\n",
    "# Round the column 'your_column_name' to 2 decimal places\n",
    "df['AHI'] = df['AHI'].round(2)\n",
    "\n",
    "# Save the modified DataFrame back to a new CSV file\n",
    "df.to_csv('merged.csv', index=False)"
   ]
  },
  {
   "cell_type": "code",
   "execution_count": null,
   "id": "1829eb8e-bf7a-4ddd-9ea8-5d8fda73ce9f",
   "metadata": {},
   "outputs": [],
   "source": []
  }
 ],
 "metadata": {
  "kernelspec": {
   "display_name": "Python 3 (ipykernel)",
   "language": "python",
   "name": "python3"
  },
  "language_info": {
   "codemirror_mode": {
    "name": "ipython",
    "version": 3
   },
   "file_extension": ".py",
   "mimetype": "text/x-python",
   "name": "python",
   "nbconvert_exporter": "python",
   "pygments_lexer": "ipython3",
   "version": "3.11.4"
  }
 },
 "nbformat": 4,
 "nbformat_minor": 5
}
